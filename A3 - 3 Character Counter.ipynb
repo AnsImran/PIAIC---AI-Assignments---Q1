{
 "cells": [
  {
   "cell_type": "code",
   "execution_count": 12,
   "id": "5691851e",
   "metadata": {},
   "outputs": [
    {
     "name": "stdout",
     "output_type": "stream",
     "text": [
      "Enter a statement: A bB ccC dddD eeeeE fffffF  .. ~ 99\n",
      "The character [A] is repeated 1 times\n",
      " \n",
      "The character [ ] is repeated 9 times\n",
      " \n",
      "The character [B] is repeated 2 times\n",
      " \n",
      "The character [C] is repeated 3 times\n",
      " \n",
      "The character [D] is repeated 4 times\n",
      " \n",
      "The character [E] is repeated 5 times\n",
      " \n",
      "The character [F] is repeated 6 times\n",
      " \n",
      "The character [.] is repeated 2 times\n",
      " \n",
      "The character [~] is repeated 1 times\n",
      " \n",
      "The character [9] is repeated 2 times\n",
      " \n"
     ]
    }
   ],
   "source": [
    "s = input('Enter a statement: ')\n",
    "\n",
    "a_c_c_l = []                                 # [a]lready_[c]hecked_[c]haracters_[l]ist\n",
    "a_l     = 'qwertyuiopasdfghjklzxcvbnm'       # [a]lphabaet_[l]ist\n",
    "\n",
    "for i in s:\n",
    "    if i.lower() not in a_c_c_l and i.lower() in a_l:\n",
    "        a_c_c_l.append(i.lower())\n",
    "        print(f'The character [{i.upper()}] is repeated {s.count(i.lower()) + s.count(i.upper())} times\\n ')\n",
    "    elif i.lower() not in a_c_c_l:\n",
    "        a_c_c_l.append(i)\n",
    "        print(f'The character [{i}] is repeated {s.count(i)} times\\n ')\n"
   ]
  },
  {
   "cell_type": "code",
   "execution_count": null,
   "id": "4bd8ba4b",
   "metadata": {},
   "outputs": [],
   "source": []
  },
  {
   "cell_type": "code",
   "execution_count": null,
   "id": "43b84ece",
   "metadata": {},
   "outputs": [],
   "source": []
  }
 ],
 "metadata": {
  "kernelspec": {
   "display_name": "Python 3 (ipykernel)",
   "language": "python",
   "name": "python3"
  },
  "language_info": {
   "codemirror_mode": {
    "name": "ipython",
    "version": 3
   },
   "file_extension": ".py",
   "mimetype": "text/x-python",
   "name": "python",
   "nbconvert_exporter": "python",
   "pygments_lexer": "ipython3",
   "version": "3.10.5"
  }
 },
 "nbformat": 4,
 "nbformat_minor": 5
}
