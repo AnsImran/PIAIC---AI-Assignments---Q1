{
 "cells": [
  {
   "cell_type": "code",
   "execution_count": 209,
   "id": "4f2ac659",
   "metadata": {
    "scrolled": true
   },
   "outputs": [
    {
     "name": "stdout",
     "output_type": "stream",
     "text": [
      "Enter the size of first  Array: 15\n",
      "Enter the starting point of the range of First  Array: -7\n",
      "Enter the ending   point of the range of First  Array: 7\n",
      "\n",
      "Enter the size of second Array: 18\n",
      "Enter the starting point of the range of Second Array: -9\n",
      "Enter the ending   point of the range of Second Array: 4\n",
      "\n",
      "\n",
      "\n",
      "Array no. 1: \n",
      "\n",
      "[-2 -3 -2  6 -1  4 -6  1 -4 -5  5  0  1  6 -2]\n",
      "\n",
      "\n",
      "Array no. 2: \n",
      "\n",
      "[-7  0 -6  3 -6 -6 -1  2 -9  2 -6 -9  1  0 -4 -4 -8  0]\n",
      "\n",
      "\n",
      "\n",
      "\n",
      "\n",
      "The list of commmon elements between the two arrays is: \n",
      "\n",
      "\n",
      "[-1, -6, 1, -4, 0]\n"
     ]
    }
   ],
   "source": [
    "import numpy as np\n",
    "from numpy import random as r\n",
    "\n",
    "\n",
    "'''\n",
    "This block takes as input the sizes and ranges of first and second arrays\n",
    "'''\n",
    "size_1  = int(input('Enter the size of first  Array: '))\n",
    "rn_1_1  = int(input('Enter the starting point of the range of First  Array: '))\n",
    "rn_1_2  = int(input('Enter the ending   point of the range of First  Array: '))\n",
    "\n",
    "\n",
    "size_2  = int(input('\\nEnter the size of second Array: '))\n",
    "rn_2_1  = int(input('Enter the starting point of the range of Second Array: '))\n",
    "rn_2_2  = int(input('Enter the ending   point of the range of Second Array: '))\n",
    "\n",
    "\n",
    "\n",
    "\n",
    "'''\n",
    "This block generates data\n",
    "'''\n",
    "array_1 = r.randint(rn_1_1, rn_1_2  ,size_1)\n",
    "print(f'\\n\\n\\nArray no. 1: \\n\\n{array_1}\\n\\n')\n",
    "\n",
    "array_2 = r.randint(rn_2_1, rn_2_2  ,size_2)\n",
    "print(f'Array no. 2: \\n\\n{array_2}\\n')\n",
    "\n",
    "\n",
    "\n",
    "\n",
    "'''\n",
    "This block performs calculations\n",
    "'''\n",
    "list_c = []\n",
    "for element in array_1:\n",
    "        if (element in array_2 and element not in list_c):\n",
    "            list_c.append(element)\n",
    "\n",
    "\n",
    "\n",
    "\n",
    "'''\n",
    "This block prints the results\n",
    "'''\n",
    "print(f'\\n\\n\\n\\nThe list of commmon elements between the two arrays is: \\n\\n')\n",
    "print(f'{list_c}')\n"
   ]
  },
  {
   "cell_type": "code",
   "execution_count": null,
   "id": "4f717361",
   "metadata": {},
   "outputs": [],
   "source": []
  },
  {
   "cell_type": "code",
   "execution_count": null,
   "id": "f4c3f7e4",
   "metadata": {},
   "outputs": [],
   "source": []
  },
  {
   "cell_type": "code",
   "execution_count": null,
   "id": "7f8b9720",
   "metadata": {},
   "outputs": [],
   "source": []
  }
 ],
 "metadata": {
  "kernelspec": {
   "display_name": "Python 3 (ipykernel)",
   "language": "python",
   "name": "python3"
  },
  "language_info": {
   "codemirror_mode": {
    "name": "ipython",
    "version": 3
   },
   "file_extension": ".py",
   "mimetype": "text/x-python",
   "name": "python",
   "nbconvert_exporter": "python",
   "pygments_lexer": "ipython3",
   "version": "3.10.5"
  }
 },
 "nbformat": 4,
 "nbformat_minor": 5
}
