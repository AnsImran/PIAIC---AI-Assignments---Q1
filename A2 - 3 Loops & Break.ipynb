{
 "cells": [
  {
   "cell_type": "code",
   "execution_count": 35,
   "id": "755a3d17",
   "metadata": {},
   "outputs": [
    {
     "name": "stdout",
     "output_type": "stream",
     "text": [
      "A RANDOM INTEGER IN THE RANGE [1,10) HAS BEEN GENER1TED, GUESS THE INTEGER. \n",
      "\n",
      "\n",
      "Guess Game Using for loop \n",
      "\n",
      "\n",
      "Guess #1/3: 2\n",
      "Wrong guess!\n",
      "\n",
      "Guess #2/3: 3\n",
      "Wrong guess!\n",
      "\n",
      "Guess #3/3: 4\n",
      "Wrong guess!\n",
      "\n",
      "\n",
      "You have used all of your three chances. END OF THE GAME\n",
      "\n",
      "\n",
      "\n",
      "\n",
      "\n",
      "\n",
      "Guess Game Using While loop \n",
      "\n",
      "\n",
      "Guess #1/3: 5\n",
      "Wrong guess!\n",
      "\n",
      "Guess #2/3: 6\n",
      "Wrong guess!\n",
      "\n",
      "Guess #3/3: 1\n",
      "\n",
      "Congragulations! You have guessed it right! It was indeed: 1\n"
     ]
    }
   ],
   "source": [
    "import random as r\n",
    "\n",
    "r_int = r.randint(1,10)\n",
    "print(f'A RANDOM INTEGER IN THE RANGE [1,10) HAS BEEN GENER{r_int}TED, GUESS THE INTEGER. \\n\\n')\n",
    "\n",
    "\n",
    "\n",
    "\n",
    "# Using for loop\n",
    "print('Guess Game Using for loop \\n\\n')\n",
    "\n",
    "for i in range(3):\n",
    "    a = int(input(f'Guess #{i+1}/3: '))\n",
    "    if a == r_int:\n",
    "        print(f'\\nCongragulations! You have guessed it right!  It was indeed: {a}')\n",
    "        break\n",
    "    else:\n",
    "        print('Wrong guess!\\n')\n",
    "        if i == 2:\n",
    "            print('\\nYou have used all of your three chances. END OF THE GAME')\n",
    "\n",
    "            \n",
    "\n",
    "            \n",
    "# Using While loop\n",
    "print('\\n\\n\\n\\n\\n\\nGuess Game Using While loop \\n\\n')\n",
    "\n",
    "i = 0\n",
    "while i < 3:\n",
    "    b = int(input(f'Guess #{i+1}/3: '))\n",
    "    if b == r_int:\n",
    "        print(f'\\nCongragulations! You have guessed it right! It was indeed: {b}')\n",
    "        break\n",
    "    else:\n",
    "        print('Wrong guess!\\n')\n",
    "        if i == 2:\n",
    "            print('\\nYou have used all of your three chances. END OF THE GAME')\n",
    "        i+=1\n"
   ]
  },
  {
   "cell_type": "markdown",
   "id": "200ef6e6",
   "metadata": {},
   "source": [
    "#### Sources\n",
    "https://www.w3schools.com/python/python_while_loops.asp"
   ]
  },
  {
   "cell_type": "code",
   "execution_count": null,
   "id": "a45de104",
   "metadata": {},
   "outputs": [],
   "source": []
  },
  {
   "cell_type": "code",
   "execution_count": null,
   "id": "f884d15f",
   "metadata": {},
   "outputs": [],
   "source": []
  }
 ],
 "metadata": {
  "kernelspec": {
   "display_name": "Python 3 (ipykernel)",
   "language": "python",
   "name": "python3"
  },
  "language_info": {
   "codemirror_mode": {
    "name": "ipython",
    "version": 3
   },
   "file_extension": ".py",
   "mimetype": "text/x-python",
   "name": "python",
   "nbconvert_exporter": "python",
   "pygments_lexer": "ipython3",
   "version": "3.10.5"
  }
 },
 "nbformat": 4,
 "nbformat_minor": 5
}
