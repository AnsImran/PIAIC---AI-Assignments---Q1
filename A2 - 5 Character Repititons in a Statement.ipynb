{
 "cells": [
  {
   "cell_type": "code",
   "execution_count": 1,
   "id": "b1e04bd0",
   "metadata": {},
   "outputs": [
    {
     "name": "stdout",
     "output_type": "stream",
     "text": [
      "Please Enter a Statement:   a bb ccc dddd eeeee ffffff\n",
      "Please Enter the Character: F\n",
      "\n",
      "The character  F  is repeated  6 times  in the input statement\n"
     ]
    }
   ],
   "source": [
    "statement = input('Please Enter a Statement:   ')\n",
    "character = input('Please Enter the Character: ')\n",
    "\n",
    "c = 0\n",
    "for i in statement.lower():\n",
    "    if i == character.lower():\n",
    "        c +=1\n",
    "print(f'\\nThe character  {character}  is repeated  {c} times  in the input statement')"
   ]
  },
  {
   "cell_type": "code",
   "execution_count": null,
   "id": "807fcf62",
   "metadata": {},
   "outputs": [],
   "source": []
  }
 ],
 "metadata": {
  "kernelspec": {
   "display_name": "Python 3 (ipykernel)",
   "language": "python",
   "name": "python3"
  },
  "language_info": {
   "codemirror_mode": {
    "name": "ipython",
    "version": 3
   },
   "file_extension": ".py",
   "mimetype": "text/x-python",
   "name": "python",
   "nbconvert_exporter": "python",
   "pygments_lexer": "ipython3",
   "version": "3.10.5"
  }
 },
 "nbformat": 4,
 "nbformat_minor": 5
}
