{
 "cells": [
  {
   "cell_type": "code",
   "execution_count": 1,
   "id": "dec546c7",
   "metadata": {},
   "outputs": [
    {
     "name": "stdout",
     "output_type": "stream",
     "text": [
      "Please enter your desired whole number to see whether the no. is even or odd: 10\n",
      "The number is Even\n"
     ]
    }
   ],
   "source": [
    "Number = int(input(\"Please enter your desired whole number to see whether the no. is even or odd: \"))\n",
    "\n",
    "if Number%2 == 0:\n",
    "    print(\"The number is Even\")\n",
    "else:\n",
    "    print(\"The number id odd\")"
   ]
  },
  {
   "cell_type": "code",
   "execution_count": null,
   "id": "640dc81c",
   "metadata": {},
   "outputs": [],
   "source": []
  },
  {
   "cell_type": "code",
   "execution_count": null,
   "id": "807f448f",
   "metadata": {},
   "outputs": [],
   "source": []
  }
 ],
 "metadata": {
  "kernelspec": {
   "display_name": "Python 3 (ipykernel)",
   "language": "python",
   "name": "python3"
  },
  "language_info": {
   "codemirror_mode": {
    "name": "ipython",
    "version": 3
   },
   "file_extension": ".py",
   "mimetype": "text/x-python",
   "name": "python",
   "nbconvert_exporter": "python",
   "pygments_lexer": "ipython3",
   "version": "3.9.7"
  }
 },
 "nbformat": 4,
 "nbformat_minor": 5
}
