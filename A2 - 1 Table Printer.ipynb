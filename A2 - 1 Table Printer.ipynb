{
 "cells": [
  {
   "cell_type": "code",
   "execution_count": 13,
   "id": "0ee6d118",
   "metadata": {},
   "outputs": [
    {
     "name": "stdout",
     "output_type": "stream",
     "text": [
      "Enter any integer number whose table you want to print: 97984\n",
      "97984 *  1    =   97984 \n",
      "97984 *  2    =   195968 \n",
      "97984 *  3    =   293952 \n",
      "97984 *  4    =   391936 \n",
      "97984 *  5    =   489920 \n",
      "97984 *  6    =   587904 \n",
      "97984 *  7    =   685888 \n",
      "97984 *  8    =   783872 \n",
      "97984 *  9    =   881856 \n",
      "97984 *  10   =   979840 \n"
     ]
    }
   ],
   "source": [
    "'''\n",
    "Note:\n",
    "        str()   is used to convert integer data into string data\n",
    "        \n",
    "        .rjust  is used to 'right justify' a string\n",
    "        \n",
    "        .ljust  is used to 'left  justify' a string\n",
    "        \n",
    "All of these functions help in maintaining the proper indentation/format of the table even when the input Natural numbers are\n",
    "very small (1) or very large (98562).\n",
    "'''\n",
    "\n",
    "\n",
    "\n",
    "\n",
    "n = int(input('Enter any integer number whose table you want to print: '))\n",
    "\n",
    "for i in range(10):\n",
    "    print(f\"{ str(n).ljust(3) } *  { str(i+1).ljust(3) }  =   { str((n)*(i+1)).ljust(3) } \")\n"
   ]
  },
  {
   "cell_type": "code",
   "execution_count": null,
   "id": "627aad1b",
   "metadata": {},
   "outputs": [],
   "source": []
  },
  {
   "cell_type": "code",
   "execution_count": null,
   "id": "01fd4d58",
   "metadata": {},
   "outputs": [],
   "source": []
  },
  {
   "cell_type": "code",
   "execution_count": null,
   "id": "77e32daa",
   "metadata": {},
   "outputs": [],
   "source": []
  },
  {
   "cell_type": "code",
   "execution_count": null,
   "id": "732dd300",
   "metadata": {},
   "outputs": [],
   "source": []
  }
 ],
 "metadata": {
  "kernelspec": {
   "display_name": "Python 3 (ipykernel)",
   "language": "python",
   "name": "python3"
  },
  "language_info": {
   "codemirror_mode": {
    "name": "ipython",
    "version": 3
   },
   "file_extension": ".py",
   "mimetype": "text/x-python",
   "name": "python",
   "nbconvert_exporter": "python",
   "pygments_lexer": "ipython3",
   "version": "3.10.5"
  }
 },
 "nbformat": 4,
 "nbformat_minor": 5
}
