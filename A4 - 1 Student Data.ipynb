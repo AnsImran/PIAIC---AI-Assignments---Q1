{
 "cells": [
  {
   "cell_type": "code",
   "execution_count": 103,
   "id": "087626e4",
   "metadata": {},
   "outputs": [
    {
     "name": "stdout",
     "output_type": "stream",
     "text": [
      "Please Enter Student Name: Imran Khan\n",
      "\n",
      "Please Enter Student Father Name: Khan Niazi\n",
      "\n",
      "Please Enter Student Mother Name: Shaukat Khanum\n",
      "\n",
      "Please Enter Student Class: 327\n",
      "\n",
      "Please Enter Student Section: Red\n",
      "\n",
      "Please Enter Student Age: 89\n",
      "\n",
      "Please Enter Student Email Address: imrankhan@ptimail.com\n",
      "\n",
      "If you want to quit press [q], Else, Enter name of subject #1: Political Science\n",
      "\n",
      "If you want to quit press [q], Else, Enter name of subject #2: Economics\n",
      "\n",
      "If you want to quit press [q], Else, Enter name of subject #3: Establishment\n",
      "\n",
      "If you want to quit press [q], Else, Enter name of subject #4: West\n",
      "\n",
      "If you want to quit press [q], Else, Enter name of subject #5: q\n",
      "\n",
      "\n",
      "\n",
      "\n",
      "\n",
      "The data of student is as follows: \n",
      "\n",
      "\n",
      "Name                               Imran Khan \n",
      "\n",
      "Father Name                        Khan Niazi \n",
      "\n",
      "Mother Name                        Shaukat Khanum \n",
      "\n",
      "Class                              327 \n",
      "\n",
      "Section                            Red \n",
      "\n",
      "Age                                89 \n",
      "\n",
      "Email Address                      imrankhan@ptimail.com \n",
      "\n",
      "Courses                            ['Political Science', 'Economics', 'Establishment', 'West'] \n",
      "\n"
     ]
    }
   ],
   "source": [
    "course_list       = []\n",
    "credentials_list  = ['Name', 'Father Name', 'Mother Name', 'Class', 'Section', 'Age', 'Email Address', course_list]\n",
    "Dictionary        = {}\n",
    "\n",
    "counter_1 = 0  \n",
    "counter_2 = 0\n",
    "loop_breaker = 'a'\n",
    "\n",
    "\n",
    "\n",
    "\n",
    "for i in credentials_list:\n",
    "    if counter_1 <= len(credentials_list) - 2:\n",
    "        Dictionary[i] = input(f'Please Enter Student {credentials_list[counter_1]}: ')\n",
    "        print()\n",
    "        \n",
    "    elif counter_1 == len(credentials_list) - 1:\n",
    "        while loop_breaker != 'q':\n",
    "            course_list.append(input(f'If you want to quit press [q], Else, Enter name of subject #{counter_2 + 1}: '))\n",
    "            print()\n",
    "            loop_breaker  = course_list[counter_2].lower()\n",
    "            counter_2  = counter_2 + 1\n",
    "\n",
    "    counter_1 += 1\n",
    "\n",
    "\n",
    "\n",
    "\n",
    "Dictionary['Courses'] = course_list\n",
    "del Dictionary['Courses'][-1]\n",
    "\n",
    "\n",
    "\n",
    "\n",
    "print(f'\\n\\n\\n\\nThe data of student is as follows: \\n\\n')\n",
    "for keys, values in Dictionary.items():\n",
    "    \n",
    "    keys = keys + ' '*(35 - len(keys))\n",
    "\n",
    "    print(f'{str(keys)}', end = '')\n",
    "    print(f'{str(values).ljust(1)} \\n')"
   ]
  },
  {
   "cell_type": "code",
   "execution_count": null,
   "id": "94940955",
   "metadata": {},
   "outputs": [],
   "source": []
  },
  {
   "cell_type": "code",
   "execution_count": null,
   "id": "f92972a3",
   "metadata": {},
   "outputs": [],
   "source": []
  },
  {
   "cell_type": "code",
   "execution_count": null,
   "id": "cdbc97b7",
   "metadata": {},
   "outputs": [],
   "source": []
  },
  {
   "cell_type": "code",
   "execution_count": null,
   "id": "dd3037f0",
   "metadata": {},
   "outputs": [],
   "source": []
  },
  {
   "cell_type": "code",
   "execution_count": null,
   "id": "5762d399",
   "metadata": {},
   "outputs": [],
   "source": []
  }
 ],
 "metadata": {
  "kernelspec": {
   "display_name": "Python 3 (ipykernel)",
   "language": "python",
   "name": "python3"
  },
  "language_info": {
   "codemirror_mode": {
    "name": "ipython",
    "version": 3
   },
   "file_extension": ".py",
   "mimetype": "text/x-python",
   "name": "python",
   "nbconvert_exporter": "python",
   "pygments_lexer": "ipython3",
   "version": "3.10.5"
  }
 },
 "nbformat": 4,
 "nbformat_minor": 5
}
