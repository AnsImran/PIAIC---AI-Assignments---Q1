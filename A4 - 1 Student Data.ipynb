{
 "cells": [
  {
   "cell_type": "code",
   "execution_count": 21,
   "id": "b0e0acfa",
   "metadata": {},
   "outputs": [
    {
     "name": "stdout",
     "output_type": "stream",
     "text": [
      "Enter the name of Student Credential # 1, else, enter [q] to Quit: Student Name\n",
      "Please Enter Student Student Name: Imran Khan\n",
      "\n",
      "Enter the name of Student Credential # 2, else, enter [q] to Quit: Age\n",
      "Please Enter Student Age: 89\n",
      "\n",
      "Enter the name of Student Credential # 3, else, enter [q] to Quit: Email Address\n",
      "Please Enter Student Email Address: imrankhan@ptimail.com\n",
      "\n",
      "Enter the name of Student Credential # 4, else, enter [q] to Quit: Courses\n",
      "If you want to quit press [q], Else, Enter name of subject # 1: Political Science\n",
      "\n",
      "If you want to quit press [q], Else, Enter name of subject # 2: Economics\n",
      "\n",
      "If you want to quit press [q], Else, Enter name of subject # 3: q\n",
      "\n",
      "Enter the name of Student Credential # 5, else, enter [q] to Quit: q\n",
      "\n",
      "\n",
      "\n",
      "\n",
      "The data of student is as follows: \n",
      "\n",
      "\n",
      "Student Name                       Imran Khan \n",
      "\n",
      "Age                                89 \n",
      "\n",
      "Email Address                      imrankhan@ptimail.com \n",
      "\n",
      "Courses                            ['Political Science', 'Economics'] \n",
      "\n"
     ]
    }
   ],
   "source": [
    "course_list       = []\n",
    "Dictionary        = {}\n",
    "\n",
    "counter_1 = 0  \n",
    "counter_2 = 0\n",
    "loop_breaker = 'a'\n",
    "\n",
    "current_credential = 'z'\n",
    "\n",
    "\n",
    "while current_credential != 'q':\n",
    "\n",
    "    current_credential = input(f'Enter the name of Student Credential # {counter_1 + 1}, else, enter [q] to Quit: ')\n",
    "    if current_credential.lower() == 'q':\n",
    "        break\n",
    "\n",
    "    if 'cour' in current_credential.lower():\n",
    "        \n",
    "        while loop_breaker != 'q':\n",
    "            course_name = input(f'If you want to quit press [q], Else, Enter name of subject # {counter_2 + 1}: ')\n",
    "            if course_name.lower() == 'q':\n",
    "                break\n",
    "                \n",
    "            course_list.append(course_name)\n",
    "            print()\n",
    "            \n",
    "            loop_breaker = course_list[counter_2].lower()\n",
    "            counter_2    = counter_2 + 1\n",
    "            \n",
    "        Dictionary[current_credential] = course_list\n",
    "        \n",
    "        counter_1 += 1\n",
    "        print()\n",
    "\n",
    "    else:\n",
    "        Dictionary[current_credential] = input(f'Please Enter Student {current_credential}: ')\n",
    "        print()\n",
    "        counter_1 += 1\n",
    "        \n",
    "\n",
    "\n",
    "\n",
    "\n",
    "print(f'\\n\\n\\n\\n\\nThe data of student is as follows: \\n\\n')\n",
    "for keys, values in Dictionary.items():\n",
    "    \n",
    "    keys = keys + ' '*(35 - len(keys))\n",
    "\n",
    "    print(f'{str(keys)}', end = '')\n",
    "    print(f'{str(values).ljust(1)} \\n')"
   ]
  },
  {
   "cell_type": "code",
   "execution_count": null,
   "id": "e5a24775",
   "metadata": {},
   "outputs": [],
   "source": []
  },
  {
   "cell_type": "code",
   "execution_count": null,
   "id": "c011d48a",
   "metadata": {},
   "outputs": [],
   "source": []
  }
 ],
 "metadata": {
  "kernelspec": {
   "display_name": "Python 3 (ipykernel)",
   "language": "python",
   "name": "python3"
  },
  "language_info": {
   "codemirror_mode": {
    "name": "ipython",
    "version": 3
   },
   "file_extension": ".py",
   "mimetype": "text/x-python",
   "name": "python",
   "nbconvert_exporter": "python",
   "pygments_lexer": "ipython3",
   "version": "3.10.5"
  }
 },
 "nbformat": 4,
 "nbformat_minor": 5
}
