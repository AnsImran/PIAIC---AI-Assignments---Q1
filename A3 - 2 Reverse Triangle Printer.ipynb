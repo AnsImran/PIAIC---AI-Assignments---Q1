{
 "cells": [
  {
   "cell_type": "code",
   "execution_count": 62,
   "id": "db1df1f0",
   "metadata": {},
   "outputs": [
    {
     "name": "stdout",
     "output_type": "stream",
     "text": [
      "Enter the number whose triangle yu want to print: 9\n",
      "\n",
      "1 2 3 4 5 6 7 8 9 \n",
      "1 2 3 4 5 6 7 8 \n",
      "1 2 3 4 5 6 7 \n",
      "1 2 3 4 5 6 \n",
      "1 2 3 4 5 \n",
      "1 2 3 4 \n",
      "1 2 3 \n",
      "1 2 \n",
      "1 \n"
     ]
    }
   ],
   "source": [
    "number = int(input('Enter the number whose triangle yu want to print: '))\n",
    "print('')\n",
    "\n",
    "\n",
    "r_j = n                                  # [r]ange of loop [j]\n",
    "\n",
    "for i in range(number):\n",
    "    c_n_b_p = 0                          # [c]urrent [n]umber [b]eing [p]rinted\n",
    "    \n",
    "    for j in range(r_j):\n",
    "        print(f'{c_n_b_p + 1}', end = ' ')\n",
    "        \n",
    "        if c_n_b_p == r_j - 1:\n",
    "            print('')\n",
    "            \n",
    "        c_n_b_p = c_n_b_p + 1\n",
    "    r_j = r_j - 1"
   ]
  },
  {
   "cell_type": "code",
   "execution_count": null,
   "id": "b9e5f24a",
   "metadata": {},
   "outputs": [],
   "source": []
  },
  {
   "cell_type": "code",
   "execution_count": null,
   "id": "95631406",
   "metadata": {},
   "outputs": [],
   "source": []
  },
  {
   "cell_type": "code",
   "execution_count": null,
   "id": "264f4996",
   "metadata": {},
   "outputs": [],
   "source": []
  },
  {
   "cell_type": "code",
   "execution_count": null,
   "id": "a432fc98",
   "metadata": {},
   "outputs": [],
   "source": []
  }
 ],
 "metadata": {
  "kernelspec": {
   "display_name": "Python 3 (ipykernel)",
   "language": "python",
   "name": "python3"
  },
  "language_info": {
   "codemirror_mode": {
    "name": "ipython",
    "version": 3
   },
   "file_extension": ".py",
   "mimetype": "text/x-python",
   "name": "python",
   "nbconvert_exporter": "python",
   "pygments_lexer": "ipython3",
   "version": "3.10.5"
  }
 },
 "nbformat": 4,
 "nbformat_minor": 5
}
