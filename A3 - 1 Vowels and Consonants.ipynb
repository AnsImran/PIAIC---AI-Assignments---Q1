{
 "cells": [
  {
   "cell_type": "code",
   "execution_count": 36,
   "id": "e4d0b2e3",
   "metadata": {},
   "outputs": [
    {
     "name": "stdout",
     "output_type": "stream",
     "text": [
      "Enter a statement: aEi    Ou qw rt p s 1234567890 ./,;'][!@#$%`~\n",
      "\n",
      "\n",
      "\n",
      "The list of Vowels     is:  ['a', 'E', 'i', 'O', 'u']\n",
      "\n",
      "The number of vowels  are:  5\n",
      "\n",
      "\n",
      "\n",
      "The list of Consonants     is:  ['q', 'w', 'r', 't', 'p', 's']\n",
      "\n",
      "The number of Consonants  are:  6\n"
     ]
    }
   ],
   "source": [
    "s = input('Enter a statement: ')\n",
    "v = 'aeiou'\n",
    "c = 'bcdfghjklmnpqrstvwxyz'\n",
    "\n",
    "\n",
    "vlist = []\n",
    "clist = []\n",
    "\n",
    "\n",
    "for i in s:\n",
    "    if i.lower() in c:\n",
    "        clist.append(i)\n",
    "        \n",
    "    elif i.lower() in v:\n",
    "        vlist.append(i)\n",
    "\n",
    "\n",
    "print('\\n\\n\\nThe list of Vowels     is: ', vlist)\n",
    "print('\\nThe number of vowels  are: ', len(vlist))\n",
    "\n",
    "\n",
    "print('\\n\\n\\nThe list of Consonants     is: ', clist)\n",
    "print('\\nThe number of Consonants  are: ', len(clist))"
   ]
  },
  {
   "cell_type": "code",
   "execution_count": null,
   "id": "a14c0681",
   "metadata": {},
   "outputs": [],
   "source": []
  }
 ],
 "metadata": {
  "kernelspec": {
   "display_name": "Python 3 (ipykernel)",
   "language": "python",
   "name": "python3"
  },
  "language_info": {
   "codemirror_mode": {
    "name": "ipython",
    "version": 3
   },
   "file_extension": ".py",
   "mimetype": "text/x-python",
   "name": "python",
   "nbconvert_exporter": "python",
   "pygments_lexer": "ipython3",
   "version": "3.10.5"
  }
 },
 "nbformat": 4,
 "nbformat_minor": 5
}
