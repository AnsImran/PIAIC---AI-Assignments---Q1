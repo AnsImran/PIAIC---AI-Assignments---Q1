{
 "cells": [
  {
   "cell_type": "code",
   "execution_count": 1,
   "id": "c9cbe6f5",
   "metadata": {},
   "outputs": [
    {
     "name": "stdin",
     "output_type": "stream",
     "text": [
      "\n",
      "\n",
      " If you want to add a student press y \n",
      " else press q to quit:  y\n"
     ]
    },
    {
     "name": "stdout",
     "output_type": "stream",
     "text": [
      "\n",
      "\n"
     ]
    },
    {
     "name": "stdin",
     "output_type": "stream",
     "text": [
      "Please enter student NAME: \n",
      " Ahmad\n",
      "Please enter student CNIC: \n",
      " 31205-9845053-9\n",
      "Please enter student AGE: \n",
      " 21\n",
      "Please enter student EMAIL: \n",
      " ahmad@gmail.com\n",
      "Please enter student CONTACT_NO: \n",
      " 0301-2345678\n"
     ]
    },
    {
     "name": "stdout",
     "output_type": "stream",
     "text": [
      "Your details are: ['Ahmad', '31205-9845053-9', '21', 'ahmad@gmail.com', '0301-2345678']\n",
      "\n",
      "\n",
      "The courses available to student are: ['Bio', 'Physics', 'chemistry', 'Math', 'Urdu']\n"
     ]
    },
    {
     "name": "stdin",
     "output_type": "stream",
     "text": [
      "\n",
      " If student wants to select the course BIO, press y \n",
      " else press n to go to next course \n",
      " else press q, to quit course selection:  y\n",
      "\n",
      " If student wants to select the course PHYSICS, press y \n",
      " else press n to go to next course \n",
      " else press q, to quit course selection:  n\n",
      "\n",
      " If student wants to select the course CHEMISTRY, press y \n",
      " else press n to go to next course \n",
      " else press q, to quit course selection:  y\n",
      "\n",
      " If student wants to select the course MATH, press y \n",
      " else press n to go to next course \n",
      " else press q, to quit course selection:  q\n",
      "\n",
      "\n",
      " If you want to add a student press y \n",
      " else press q to quit:  q\n"
     ]
    },
    {
     "name": "stdout",
     "output_type": "stream",
     "text": [
      "\n",
      "\n"
     ]
    }
   ],
   "source": [
    "def student_data_input():\n",
    "    '''\n",
    "    This function returns a list, which contains student credentials\n",
    "    '''\n",
    "    general_student_credentials = ['Name', \"CNIC\", 'Age', 'Email', \"Contact_no\"]\n",
    "    current_student_credentials = []\n",
    "    \n",
    "    for i in general_student_credentials:\n",
    "        current_input = input(f'Please enter student {str(i).upper()}: \\n')\n",
    "        current_student_credentials.append( current_input )\n",
    "    print(f'Your details are: {current_student_credentials}')\n",
    "    \n",
    "    return current_student_credentials\n",
    "\n",
    "##########################################################################################################################\n",
    "\n",
    "def course_selection():\n",
    "    '''\n",
    "    This function returns a list which contains the courses selected by student\n",
    "    '''\n",
    "    course_list = ['Bio', 'Physics', 'chemistry', 'Math', \"Urdu\"]\n",
    "    selected_courses = []\n",
    "    \n",
    "    print(f'\\n\\nThe courses available to student are: {course_list}')\n",
    "    \n",
    "    for i in course_list:\n",
    "        u_input = input(f'\\n If student wants to select the course {str(i).upper()}, press y \\n else press n to go to next course \\n else press q, to quit course selection: ')\n",
    "        if u_input.lower() == 'y' or u_input.lower() == 'n':\n",
    "            if u_input.lower() == 'y':\n",
    "                selected_courses.append(i)\n",
    "            elif u_input.lower() == 'n':\n",
    "                continue\n",
    "        elif u_input.lower() == 'q':\n",
    "            break\n",
    "        else:\n",
    "            print('wrong input')\n",
    "            continue\n",
    "    \n",
    "    return selected_courses\n",
    "    \n",
    "##########################################################################################################################\n",
    "    \n",
    "class Students():\n",
    "    def __init__(self, student_data, course_data, student_no):\n",
    "        self.student_name       = student_data[0]\n",
    "        self.student_cnic       = student_data[1]\n",
    "        self.student_age        = student_data[2]\n",
    "        self.student_email      = student_data[3]\n",
    "        self.student_contact_no = student_data[4]\n",
    "        self.student_courses    = course_data\n",
    "        self.student_no         = student_no\n",
    "    \n",
    "    def data_printer(self):\n",
    "        print(f'Student no.         is: { self.student_no }')\n",
    "        print(f'Student Name        is: { self.student_name }')\n",
    "        print(f'Student CNIC        is: { self.student_cnic }')\n",
    "        print(f'Student Age         is: { self.student_age }')\n",
    "        print(f'Student Email       is: { self.student_email }')\n",
    "        print(f'Student Contact no  is: { self.student_contact_no }')\n",
    "        print(f'Registered Courses are: { self.student_courses }')\n",
    "        print('\\n\\n')\n",
    "\n",
    "##########################################################################################################################\n",
    "\n",
    "def create_objects():\n",
    "    '''\n",
    "    This function returns a list of student objects.\n",
    "    '''\n",
    "    student_list = []\n",
    "    i = 0\n",
    "    while True:\n",
    "        i = i + 1\n",
    "        a = input('\\n\\n If you want to add a student press y \\n else press q to quit: ')\n",
    "        print('\\n')\n",
    "        \n",
    "        if a.lower() == 'q':\n",
    "            break\n",
    "            \n",
    "        elif a.lower() == 'y':\n",
    "            x         = student_data_input()\n",
    "            y         = course_selection()\n",
    "            student   = Students(x,y,i) # 'i' assigns a unique number to each student\n",
    "            \n",
    "            student_list.append(student)\n",
    "    return student_list\n",
    "\n",
    "##########################################################################################################################\n",
    "\n",
    "# creating a list of student objects\n",
    "z = create_objects()"
   ]
  },
  {
   "cell_type": "code",
   "execution_count": 2,
   "id": "ba73ddaf",
   "metadata": {},
   "outputs": [
    {
     "name": "stdout",
     "output_type": "stream",
     "text": [
      "Student no.         is: 1\n",
      "Student Name        is: Ahmad\n",
      "Student CNIC        is: 31205-9845053-9\n",
      "Student Age         is: 21\n",
      "Student Email       is: ahmad@gmail.com\n",
      "Student Contact no  is: 0301-2345678\n",
      "Registered Courses are: ['Bio', 'chemistry']\n",
      "\n",
      "\n",
      "\n"
     ]
    }
   ],
   "source": [
    "# printing the list of student objects\n",
    "for i in range(len(z)):\n",
    "    z[i].data_printer()"
   ]
  },
  {
   "cell_type": "code",
   "execution_count": null,
   "id": "d6846d63-7128-4d61-9c05-59a809206215",
   "metadata": {},
   "outputs": [],
   "source": []
  }
 ],
 "metadata": {
  "kernelspec": {
   "display_name": "Python 3 (ipykernel)",
   "language": "python",
   "name": "python3"
  },
  "language_info": {
   "codemirror_mode": {
    "name": "ipython",
    "version": 3
   },
   "file_extension": ".py",
   "mimetype": "text/x-python",
   "name": "python",
   "nbconvert_exporter": "python",
   "pygments_lexer": "ipython3",
   "version": "3.10.0"
  }
 },
 "nbformat": 4,
 "nbformat_minor": 5
}
